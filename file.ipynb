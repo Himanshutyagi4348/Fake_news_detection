{
 "cells": [
  {
   "cell_type": "code",
   "execution_count": 5,
   "id": "62913f33",
   "metadata": {},
   "outputs": [
    {
     "name": "stdout",
     "output_type": "stream",
     "text": [
      " Accuracy: 0.9850779510022272\n",
      "\n",
      " Classification Report:\n",
      "               precision    recall  f1-score   support\n",
      "\n",
      "           0       0.99      0.98      0.99      4660\n",
      "           1       0.98      0.99      0.98      4320\n",
      "\n",
      "    accuracy                           0.99      8980\n",
      "   macro avg       0.98      0.99      0.99      8980\n",
      "weighted avg       0.99      0.99      0.99      8980\n",
      "\n",
      "\n",
      " Confusion Matrix:\n",
      " [[4583   77]\n",
      " [  57 4263]]\n",
      "\n",
      "Sample Text: NASA is planning a new moon mission in 2025.\n",
      "Prediction: Fake News\n"
     ]
    }
   ],
   "source": [
    "import pandas as pd\n",
    "from sklearn.model_selection import train_test_split\n",
    "from sklearn.feature_extraction.text import TfidfVectorizer\n",
    "from sklearn.linear_model import LogisticRegression\n",
    "from sklearn.metrics import accuracy_score, classification_report, confusion_matrix\n",
    "\n",
    "# Load the datasets\n",
    "fake_df = pd.read_csv(\"Fake.csv\")\n",
    "true_df = pd.read_csv(\"True.csv\")\n",
    "\n",
    "# Add labels: 0 = fake, 1 = real\n",
    "fake_df[\"label\"] = 0\n",
    "true_df[\"label\"] = 1\n",
    "\n",
    "# Combine both datasets\n",
    "data = pd.concat([fake_df, true_df], axis=0)\n",
    "data = data.sample(frac=1).reset_index(drop=True)  # Shuffle the data\n",
    "\n",
    "# Use only the text and label columns\n",
    "data = data[['text', 'label']]\n",
    "\n",
    "# Drop missing values if any\n",
    "data.dropna(inplace=True)\n",
    "\n",
    "# Split the data into training and testing sets\n",
    "X = data['text']\n",
    "y = data['label']\n",
    "X_train, X_test, y_train, y_test = train_test_split(\n",
    "    X, y, test_size=0.2, random_state=42\n",
    ")\n",
    "\n",
    "# Convert text to TF-IDF features\n",
    "vectorizer = TfidfVectorizer(stop_words='english', max_df=0.7)\n",
    "X_train_tfidf = vectorizer.fit_transform(X_train)\n",
    "X_test_tfidf = vectorizer.transform(X_test)\n",
    "\n",
    "# Train a Logistic Regression model\n",
    "model = LogisticRegression()\n",
    "model.fit(X_train_tfidf, y_train)\n",
    "\n",
    "# Make predictions\n",
    "y_pred = model.predict(X_test_tfidf)\n",
    "\n",
    "# Evaluate the model\n",
    "print(\" Accuracy:\", accuracy_score(y_test, y_pred))\n",
    "print(\"\\n Classification Report:\\n\", classification_report(y_test, y_pred))\n",
    "print(\"\\n Confusion Matrix:\\n\", confusion_matrix(y_test, y_pred))\n",
    "\n",
    "# Function to predict new input\n",
    "def predict_news(news_text):\n",
    "    vect = vectorizer.transform([news_text])\n",
    "    prediction = model.predict(vect)[0]\n",
    "    return \" Real News\" if prediction == 1 else \"Fake News\"\n",
    "\n",
    "# Example usage\n",
    "sample = \"NASA is planning a new moon mission in 2025.\"\n",
    "print(\"\\nSample Text:\", sample)\n",
    "print(\"Prediction:\", predict_news(sample))\n"
   ]
  }
 ],
 "metadata": {
  "kernelspec": {
   "display_name": "Python 3",
   "language": "python",
   "name": "python3"
  },
  "language_info": {
   "codemirror_mode": {
    "name": "ipython",
    "version": 3
   },
   "file_extension": ".py",
   "mimetype": "text/x-python",
   "name": "python",
   "nbconvert_exporter": "python",
   "pygments_lexer": "ipython3",
   "version": "3.12.4"
  }
 },
 "nbformat": 4,
 "nbformat_minor": 5
}
